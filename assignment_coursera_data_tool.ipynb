{
 "cells": [
  {
   "cell_type": "code",
   "execution_count": 53,
   "id": "ea4e3bfe-975d-470e-94d0-0c5cbda794d7",
   "metadata": {},
   "outputs": [],
   "source": [
    "#Exercise 2 - Create a markdown cell with the title of the notebook."
   ]
  },
  {
   "cell_type": "markdown",
   "id": "6d086d1c-86c4-4731-8f09-85b5d285721b",
   "metadata": {},
   "source": [
    "# Work and grade my Peers - My First Assignment"
   ]
  },
  {
   "cell_type": "code",
   "execution_count": 55,
   "id": "ed35806e-2a17-4aa2-9184-84a315b4687e",
   "metadata": {},
   "outputs": [],
   "source": [
    "#Exercise 3 - Create a markdown cell for an introduction."
   ]
  },
  {
   "cell_type": "markdown",
   "id": "abd1d01d-b4f4-4938-b721-e6f308f374be",
   "metadata": {},
   "source": [
    "## Introduction\n",
    "\n",
    "Introduction cell to first assignment.\n"
   ]
  },
  {
   "cell_type": "code",
   "execution_count": 15,
   "id": "fa68cb0c-2f6c-4b1c-ac8d-ce2f5173da00",
   "metadata": {},
   "outputs": [],
   "source": [
    "# Exercise 4 - Create a markdown cell to list data science languages. "
   ]
  },
  {
   "cell_type": "markdown",
   "id": "45e896d0-2346-4da2-8c55-71108a26a39b",
   "metadata": {},
   "source": [
    "## Data Science Languages\n",
    "\n",
    "- Python\n",
    "- R\n",
    "- SQL\n",
    "- Julia\n",
    "- Scala"
   ]
  },
  {
   "cell_type": "code",
   "execution_count": 20,
   "id": "3d614d53-a9af-4f3f-b32d-b2cda3018f9b",
   "metadata": {},
   "outputs": [],
   "source": [
    "#Exercise 5 - Create a markdown cell to list data science libraries."
   ]
  },
  {
   "cell_type": "markdown",
   "id": "ed88b04f-ab85-4dd7-8701-e83afad0b1c3",
   "metadata": {},
   "source": [
    "## Data Science Libraries\n",
    "\n",
    "- Pandas (Python)\n",
    "- NumPy (Python)\n",
    "- Matplotlib (Python)\n",
    "- ggplot2 (R)\n",
    "- TensorFlow (Python)\n",
    "- Scikit-learn (Python)"
   ]
  },
  {
   "cell_type": "code",
   "execution_count": 23,
   "id": "9b863368-3f56-46c2-bc05-a3be5ecf4e97",
   "metadata": {},
   "outputs": [],
   "source": [
    "#Exercise 6 - Create a markdown cell with a table of Data Science tools. "
   ]
  },
  {
   "cell_type": "markdown",
   "id": "20991a73-1e2c-415e-b853-d0ba997bcf86",
   "metadata": {},
   "source": [
    "## Data Science Tools\n",
    "\n",
    "| Tool        | Description                        |\n",
    "|-------------|------------------------------------|\n",
    "| Jupyter     | An open-source interactive notebook |\n",
    "| RStudio     | IDE for R programming               |\n",
    "| Tableau     | Data visualization software         |"
   ]
  },
  {
   "cell_type": "code",
   "execution_count": 26,
   "id": "dd308b30-ce8b-44fd-aed1-2224902e35df",
   "metadata": {},
   "outputs": [],
   "source": [
    "#Exercise 7 - Create a markdown cell introducing arithmetic expression examples."
   ]
  },
  {
   "cell_type": "markdown",
   "id": "f80d8188-fb46-4df8-87fb-6c1c1688eff9",
   "metadata": {},
   "source": [
    "## Arithmetic Expression Examples\n",
    "In this section, we will introducing basic arithmetic calculation as addition and multiplication\n"
   ]
  },
  {
   "cell_type": "code",
   "execution_count": 30,
   "id": "7f4b3ff2-fd49-4be7-a853-9c0d7ba413e7",
   "metadata": {},
   "outputs": [],
   "source": [
    "#Exercise 8 - Create a code cell to multiply and add numbers. \n",
    "\n"
   ]
  },
  {
   "cell_type": "code",
   "execution_count": 34,
   "id": "17aa767d-201c-4d78-8737-a18426c36463",
   "metadata": {},
   "outputs": [
    {
     "name": "stdout",
     "output_type": "stream",
     "text": [
      "5x3 Multiplication result: 15\n",
      "5+3 Addition result: 8\n"
     ]
    }
   ],
   "source": [
    "# Multiply and Add Numbers\n",
    "a = 5\n",
    "b = 3\n",
    "\n",
    "# Multiplication\n",
    "result_multiplication = a * b\n",
    "print(f\"{a}x{b} Multiplication result: {result_multiplication}\")\n",
    "\n",
    "# Addition\n",
    "result_addition = a + b\n",
    "print(f\"{a}+{b} Addition result: {result_addition}\")\n"
   ]
  },
  {
   "cell_type": "code",
   "execution_count": 37,
   "id": "bc525b6a-0b68-432d-9992-2612897ba4b1",
   "metadata": {},
   "outputs": [],
   "source": [
    "#Exercise 9 - Create a code cell to convert minutes to hours"
   ]
  },
  {
   "cell_type": "code",
   "execution_count": 43,
   "id": "0930af76-ed57-4cf0-9c8b-0659c086143d",
   "metadata": {},
   "outputs": [
    {
     "name": "stdout",
     "output_type": "stream",
     "text": [
      "120 minutes is 2 hours.\n"
     ]
    }
   ],
   "source": [
    "# Convert Minutes to Hours\n",
    "minutes = 120\n",
    "hours = minutes//60 #use double slash for integer result.\n",
    "print(f\"{minutes} minutes is {hours} hours.\") # or cast to int as int(hours)"
   ]
  },
  {
   "cell_type": "code",
   "execution_count": 45,
   "id": "82492032-8d05-4e1e-b1c9-db8aa9e5f52b",
   "metadata": {},
   "outputs": [],
   "source": [
    "#Exercise 10 - Insert a markdown cell to list Objectives."
   ]
  },
  {
   "cell_type": "markdown",
   "id": "5f99c3d0-5abe-4b26-baee-d0532c1c506a",
   "metadata": {},
   "source": [
    "## Objectives\n",
    "\n",
    "- Learn about common data science languages and libraries.\n",
    "- Understand basic arithmetic operations.\n",
    "- Convert time units (minutes to hours).\n",
    "- Use Jupyter notebook for coding and documentation."
   ]
  },
  {
   "cell_type": "code",
   "execution_count": 50,
   "id": "d82b2893-5210-4861-800f-250157c82e71",
   "metadata": {},
   "outputs": [],
   "source": [
    "#Exercise 11 - Create a markdown cell to indicate the Author’s name."
   ]
  },
  {
   "cell_type": "markdown",
   "id": "01440b96-ad4b-4353-b06c-bbf6a25a68b6",
   "metadata": {},
   "source": [
    "## Author\n",
    "\n",
    "This notebook was created by [Andrea Raieta].\n"
   ]
  },
  {
   "cell_type": "code",
   "execution_count": null,
   "id": "710c4701-9b7d-4bbb-bc75-10f862c4da1b",
   "metadata": {},
   "outputs": [],
   "source": []
  }
 ],
 "metadata": {
  "kernelspec": {
   "display_name": "Python 3 (ipykernel)",
   "language": "python",
   "name": "python3"
  },
  "language_info": {
   "codemirror_mode": {
    "name": "ipython",
    "version": 3
   },
   "file_extension": ".py",
   "mimetype": "text/x-python",
   "name": "python",
   "nbconvert_exporter": "python",
   "pygments_lexer": "ipython3",
   "version": "3.12.7"
  }
 },
 "nbformat": 4,
 "nbformat_minor": 5
}
